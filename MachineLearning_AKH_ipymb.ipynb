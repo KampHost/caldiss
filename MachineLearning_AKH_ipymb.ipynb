{
  "nbformat": 4,
  "nbformat_minor": 0,
  "metadata": {
    "colab": {
      "name": "MachineLearning_AKH.ipymb",
      "provenance": [],
      "collapsed_sections": [],
      "include_colab_link": true
    },
    "kernelspec": {
      "name": "python3",
      "display_name": "Python 3"
    }
  },
  "cells": [
    {
      "cell_type": "markdown",
      "metadata": {
        "id": "view-in-github",
        "colab_type": "text"
      },
      "source": [
        "<a href=\"https://colab.research.google.com/github/KampHost/caldiss/blob/master/MachineLearning_AKH_ipymb.ipynb\" target=\"_parent\"><img src=\"https://colab.research.google.com/assets/colab-badge.svg\" alt=\"Open In Colab\"/></a>"
      ]
    },
    {
      "cell_type": "markdown",
      "metadata": {
        "id": "hg9oOHcxo6N3",
        "colab_type": "text"
      },
      "source": [
        "# Portfolio Unsupervised and Supervised Machine Learning\n"
      ]
    },
    {
      "cell_type": "markdown",
      "metadata": {
        "id": "tWWBdzP9kJhW",
        "colab_type": "text"
      },
      "source": [
        "# Assignment 1\n",
        "## Unsupervised Machine Learning\n",
        "- Prepare the dataset (select the columns that are useful)\n",
        "- Preprocess\n",
        "- Reduce dimensionality and perhaps make a scatterplot of the data\n",
        "- Examine the reduced data"
      ]
    },
    {
      "cell_type": "markdown",
      "metadata": {
        "id": "noZOWuUp601R",
        "colab_type": "text"
      },
      "source": [
        "##Preamble"
      ]
    },
    {
      "cell_type": "code",
      "metadata": {
        "id": "_JeHeY8A60Hb",
        "colab_type": "code",
        "colab": {}
      },
      "source": [
        "import pandas as pd\n",
        "pd.set_option('display.float_format', lambda x: '%.3f' % x)\n",
        "from sklearn.preprocessing import StandardScaler\n",
        "from sklearn.decomposition import PCA\n",
        "\n",
        "\n",
        "!pip install -qq -U matplotlib\n",
        "import matplotlib.pyplot as plt # standard plotting library\n",
        "import numpy as np #Numpy for linear algebra & co\n",
        "import seaborn as sns # For pretty dataviz\n",
        "sns.set_style(\"darkgrid\") # Define style for dataviz"
      ],
      "execution_count": 0,
      "outputs": []
    },
    {
      "cell_type": "markdown",
      "metadata": {
        "id": "p7YUvdae1Qw7",
        "colab_type": "text"
      },
      "source": [
        "## Getting and preparing data"
      ]
    },
    {
      "cell_type": "code",
      "metadata": {
        "id": "5i5pqja9SHfG",
        "colab_type": "code",
        "colab": {}
      },
      "source": [
        "turnover = pd.read_csv('https://github.com/CALDISS-AAU/sdsphd19_coursematerials/raw/master/data/turnover.csv')"
      ],
      "execution_count": 0,
      "outputs": []
    },
    {
      "cell_type": "code",
      "metadata": {
        "id": "gOvhEJ2T1tlz",
        "colab_type": "code",
        "outputId": "583ca9e3-9d31-4c15-95ae-4a6dc454612f",
        "colab": {
          "base_uri": "https://localhost:8080/",
          "height": 261
        }
      },
      "source": [
        "#Datainspection\n",
        "turnover.info()\n",
        "\n",
        "#converting the two string variables, salary, and department, into integers."
      ],
      "execution_count": 0,
      "outputs": [
        {
          "output_type": "stream",
          "text": [
            "<class 'pandas.core.frame.DataFrame'>\n",
            "RangeIndex: 14999 entries, 0 to 14998\n",
            "Data columns (total 10 columns):\n",
            "satisfaction            14999 non-null float64\n",
            "evaluation              14999 non-null float64\n",
            "number_of_projects      14999 non-null int64\n",
            "average_montly_hours    14999 non-null int64\n",
            "time_spend_company      14999 non-null int64\n",
            "work_accident           14999 non-null int64\n",
            "churn                   14999 non-null int64\n",
            "promotion               14999 non-null int64\n",
            "department              14999 non-null object\n",
            "salary                  14999 non-null object\n",
            "dtypes: float64(2), int64(6), object(2)\n",
            "memory usage: 1.1+ MB\n"
          ],
          "name": "stdout"
        }
      ]
    },
    {
      "cell_type": "code",
      "metadata": {
        "id": "wclqshlq10Vc",
        "colab_type": "code",
        "colab": {}
      },
      "source": [
        "#Datainspection\n",
        "turnover"
      ],
      "execution_count": 0,
      "outputs": []
    },
    {
      "cell_type": "code",
      "metadata": {
        "id": "kWfvHSxCpyqd",
        "colab_type": "code",
        "outputId": "7b8af08a-8d71-4790-844f-9b5699bd6b3b",
        "colab": {
          "base_uri": "https://localhost:8080/",
          "height": 82
        }
      },
      "source": [
        "#Inspection of values in the variable salary\n",
        "turnover.salary.value_counts(normalize=True)"
      ],
      "execution_count": 0,
      "outputs": [
        {
          "output_type": "execute_result",
          "data": {
            "text/plain": [
              "low      0.488\n",
              "medium   0.430\n",
              "high     0.082\n",
              "Name: salary, dtype: float64"
            ]
          },
          "metadata": {
            "tags": []
          },
          "execution_count": 113
        }
      ]
    },
    {
      "cell_type": "code",
      "metadata": {
        "id": "fgTbtqIsI2Ar",
        "colab_type": "code",
        "colab": {}
      },
      "source": [
        "#String to integer\n",
        "salary_int = {'low':0, 'medium':1, 'high':2}"
      ],
      "execution_count": 0,
      "outputs": []
    },
    {
      "cell_type": "code",
      "metadata": {
        "id": "sx0t3plDJPOL",
        "colab_type": "code",
        "colab": {}
      },
      "source": [
        "#Attach integer\n",
        "turnover['salary'] = turnover.salary.map(salary_int)"
      ],
      "execution_count": 0,
      "outputs": []
    },
    {
      "cell_type": "code",
      "metadata": {
        "id": "_TZwU7R6S9zP",
        "colab_type": "code",
        "colab": {}
      },
      "source": [
        "#Inspection of values in the variable department\n",
        "turnover.department.value_counts(normalize=True)"
      ],
      "execution_count": 0,
      "outputs": []
    },
    {
      "cell_type": "code",
      "metadata": {
        "id": "5lqKe1gITTyd",
        "colab_type": "code",
        "colab": {}
      },
      "source": [
        "#Create dummy variables from the categories in the variable department\n",
        "dep_matrix = pd.get_dummies(turnover.department)"
      ],
      "execution_count": 0,
      "outputs": []
    },
    {
      "cell_type": "code",
      "metadata": {
        "id": "d5gLSclbUOht",
        "colab_type": "code",
        "colab": {}
      },
      "source": [
        "#Attach integers\n",
        "data = pd.concat([turnover, dep_matrix], axis = 1)"
      ],
      "execution_count": 0,
      "outputs": []
    },
    {
      "cell_type": "code",
      "metadata": {
        "id": "JD1xnfPpUomU",
        "colab_type": "code",
        "colab": {}
      },
      "source": [
        "#Drop irrelevant variables\n",
        "data.drop(['department', 'salary', 'churn'], axis=1, inplace=True)"
      ],
      "execution_count": 0,
      "outputs": []
    },
    {
      "cell_type": "code",
      "metadata": {
        "id": "jl3-1Fj6WOCz",
        "colab_type": "code",
        "colab": {}
      },
      "source": [
        "data"
      ],
      "execution_count": 0,
      "outputs": []
    },
    {
      "cell_type": "code",
      "metadata": {
        "id": "IB47HPCVKAIW",
        "colab_type": "code",
        "colab": {}
      },
      "source": [
        "##mean standardizing the variables\n",
        "scaler = StandardScaler()\n",
        "data_scaled = scaler.fit_transform(data)"
      ],
      "execution_count": 0,
      "outputs": []
    },
    {
      "cell_type": "code",
      "metadata": {
        "id": "gnz71C7aYmuz",
        "colab_type": "code",
        "outputId": "ed33fe59-56d2-4166-a30a-eb1a2256738f",
        "colab": {
          "base_uri": "https://localhost:8080/",
          "height": 277
        }
      },
      "source": [
        "#Datainspection\n",
        "pd.DataFrame(data_scaled, columns = data.columns).describe()\n"
      ],
      "execution_count": 0,
      "outputs": [
        {
          "output_type": "execute_result",
          "data": {
            "text/html": [
              "<div>\n",
              "<style scoped>\n",
              "    .dataframe tbody tr th:only-of-type {\n",
              "        vertical-align: middle;\n",
              "    }\n",
              "\n",
              "    .dataframe tbody tr th {\n",
              "        vertical-align: top;\n",
              "    }\n",
              "\n",
              "    .dataframe thead th {\n",
              "        text-align: right;\n",
              "    }\n",
              "</style>\n",
              "<table border=\"1\" class=\"dataframe\">\n",
              "  <thead>\n",
              "    <tr style=\"text-align: right;\">\n",
              "      <th></th>\n",
              "      <th>satisfaction</th>\n",
              "      <th>evaluation</th>\n",
              "      <th>number_of_projects</th>\n",
              "      <th>average_montly_hours</th>\n",
              "      <th>time_spend_company</th>\n",
              "      <th>work_accident</th>\n",
              "      <th>promotion</th>\n",
              "      <th>IT</th>\n",
              "      <th>RandD</th>\n",
              "      <th>accounting</th>\n",
              "      <th>hr</th>\n",
              "      <th>management</th>\n",
              "      <th>marketing</th>\n",
              "      <th>product_mng</th>\n",
              "      <th>sales</th>\n",
              "      <th>support</th>\n",
              "      <th>technical</th>\n",
              "    </tr>\n",
              "  </thead>\n",
              "  <tbody>\n",
              "    <tr>\n",
              "      <th>count</th>\n",
              "      <td>14999.000</td>\n",
              "      <td>14999.000</td>\n",
              "      <td>14999.000</td>\n",
              "      <td>14999.000</td>\n",
              "      <td>14999.000</td>\n",
              "      <td>14999.000</td>\n",
              "      <td>14999.000</td>\n",
              "      <td>14999.000</td>\n",
              "      <td>14999.000</td>\n",
              "      <td>14999.000</td>\n",
              "      <td>14999.000</td>\n",
              "      <td>14999.000</td>\n",
              "      <td>14999.000</td>\n",
              "      <td>14999.000</td>\n",
              "      <td>14999.000</td>\n",
              "      <td>14999.000</td>\n",
              "      <td>14999.000</td>\n",
              "    </tr>\n",
              "    <tr>\n",
              "      <th>mean</th>\n",
              "      <td>-0.000</td>\n",
              "      <td>-0.000</td>\n",
              "      <td>-0.000</td>\n",
              "      <td>-0.000</td>\n",
              "      <td>-0.000</td>\n",
              "      <td>0.000</td>\n",
              "      <td>0.000</td>\n",
              "      <td>0.000</td>\n",
              "      <td>-0.000</td>\n",
              "      <td>0.000</td>\n",
              "      <td>-0.000</td>\n",
              "      <td>-0.000</td>\n",
              "      <td>0.000</td>\n",
              "      <td>0.000</td>\n",
              "      <td>0.000</td>\n",
              "      <td>0.000</td>\n",
              "      <td>0.000</td>\n",
              "    </tr>\n",
              "    <tr>\n",
              "      <th>std</th>\n",
              "      <td>1.000</td>\n",
              "      <td>1.000</td>\n",
              "      <td>1.000</td>\n",
              "      <td>1.000</td>\n",
              "      <td>1.000</td>\n",
              "      <td>1.000</td>\n",
              "      <td>1.000</td>\n",
              "      <td>1.000</td>\n",
              "      <td>1.000</td>\n",
              "      <td>1.000</td>\n",
              "      <td>1.000</td>\n",
              "      <td>1.000</td>\n",
              "      <td>1.000</td>\n",
              "      <td>1.000</td>\n",
              "      <td>1.000</td>\n",
              "      <td>1.000</td>\n",
              "      <td>1.000</td>\n",
              "    </tr>\n",
              "    <tr>\n",
              "      <th>min</th>\n",
              "      <td>-2.103</td>\n",
              "      <td>-2.080</td>\n",
              "      <td>-1.463</td>\n",
              "      <td>-2.103</td>\n",
              "      <td>-1.026</td>\n",
              "      <td>-0.411</td>\n",
              "      <td>-0.147</td>\n",
              "      <td>-0.298</td>\n",
              "      <td>-0.235</td>\n",
              "      <td>-0.232</td>\n",
              "      <td>-0.228</td>\n",
              "      <td>-0.209</td>\n",
              "      <td>-0.246</td>\n",
              "      <td>-0.253</td>\n",
              "      <td>-0.617</td>\n",
              "      <td>-0.418</td>\n",
              "      <td>-0.471</td>\n",
              "    </tr>\n",
              "    <tr>\n",
              "      <th>25%</th>\n",
              "      <td>-0.695</td>\n",
              "      <td>-0.912</td>\n",
              "      <td>-0.652</td>\n",
              "      <td>-0.902</td>\n",
              "      <td>-0.341</td>\n",
              "      <td>-0.411</td>\n",
              "      <td>-0.147</td>\n",
              "      <td>-0.298</td>\n",
              "      <td>-0.235</td>\n",
              "      <td>-0.232</td>\n",
              "      <td>-0.228</td>\n",
              "      <td>-0.209</td>\n",
              "      <td>-0.246</td>\n",
              "      <td>-0.253</td>\n",
              "      <td>-0.617</td>\n",
              "      <td>-0.418</td>\n",
              "      <td>-0.471</td>\n",
              "    </tr>\n",
              "    <tr>\n",
              "      <th>50%</th>\n",
              "      <td>0.109</td>\n",
              "      <td>0.023</td>\n",
              "      <td>0.160</td>\n",
              "      <td>-0.021</td>\n",
              "      <td>-0.341</td>\n",
              "      <td>-0.411</td>\n",
              "      <td>-0.147</td>\n",
              "      <td>-0.298</td>\n",
              "      <td>-0.235</td>\n",
              "      <td>-0.232</td>\n",
              "      <td>-0.228</td>\n",
              "      <td>-0.209</td>\n",
              "      <td>-0.246</td>\n",
              "      <td>-0.253</td>\n",
              "      <td>-0.617</td>\n",
              "      <td>-0.418</td>\n",
              "      <td>-0.471</td>\n",
              "    </tr>\n",
              "    <tr>\n",
              "      <th>75%</th>\n",
              "      <td>0.833</td>\n",
              "      <td>0.899</td>\n",
              "      <td>0.971</td>\n",
              "      <td>0.880</td>\n",
              "      <td>0.344</td>\n",
              "      <td>-0.411</td>\n",
              "      <td>-0.147</td>\n",
              "      <td>-0.298</td>\n",
              "      <td>-0.235</td>\n",
              "      <td>-0.232</td>\n",
              "      <td>-0.228</td>\n",
              "      <td>-0.209</td>\n",
              "      <td>-0.246</td>\n",
              "      <td>-0.253</td>\n",
              "      <td>1.620</td>\n",
              "      <td>-0.418</td>\n",
              "      <td>-0.471</td>\n",
              "    </tr>\n",
              "    <tr>\n",
              "      <th>max</th>\n",
              "      <td>1.557</td>\n",
              "      <td>1.659</td>\n",
              "      <td>2.594</td>\n",
              "      <td>2.182</td>\n",
              "      <td>4.453</td>\n",
              "      <td>2.432</td>\n",
              "      <td>6.784</td>\n",
              "      <td>3.350</td>\n",
              "      <td>4.250</td>\n",
              "      <td>4.308</td>\n",
              "      <td>4.393</td>\n",
              "      <td>4.776</td>\n",
              "      <td>4.060</td>\n",
              "      <td>3.953</td>\n",
              "      <td>1.620</td>\n",
              "      <td>2.394</td>\n",
              "      <td>2.125</td>\n",
              "    </tr>\n",
              "  </tbody>\n",
              "</table>\n",
              "</div>"
            ],
            "text/plain": [
              "       satisfaction  evaluation  ...   support  technical\n",
              "count     14999.000   14999.000  ... 14999.000  14999.000\n",
              "mean         -0.000      -0.000  ...     0.000      0.000\n",
              "std           1.000       1.000  ...     1.000      1.000\n",
              "min          -2.103      -2.080  ...    -0.418     -0.471\n",
              "25%          -0.695      -0.912  ...    -0.418     -0.471\n",
              "50%           0.109       0.023  ...    -0.418     -0.471\n",
              "75%           0.833       0.899  ...    -0.418     -0.471\n",
              "max           1.557       1.659  ...     2.394      2.125\n",
              "\n",
              "[8 rows x 17 columns]"
            ]
          },
          "metadata": {
            "tags": []
          },
          "execution_count": 123
        }
      ]
    },
    {
      "cell_type": "markdown",
      "metadata": {
        "id": "b8Adnpl1KCVu",
        "colab_type": "text"
      },
      "source": [
        "#### Dimensionality Reduction using Principal Component Analysis (PCA)"
      ]
    },
    {
      "cell_type": "code",
      "metadata": {
        "id": "rAargYQnr0l1",
        "colab_type": "code",
        "outputId": "d6873b7b-2e80-43b7-e9e5-a723dfa36c58",
        "colab": {
          "base_uri": "https://localhost:8080/",
          "height": 730
        }
      },
      "source": [
        "#correlation plot\n",
        "sns.heatmap(data.corr())\n",
        "\n",
        "## The data seem highly uncorrelated - expect to find no PCs"
      ],
      "execution_count": 0,
      "outputs": [
        {
          "output_type": "execute_result",
          "data": {
            "text/plain": [
              "<matplotlib.axes._subplots.AxesSubplot at 0x7f29c601b400>"
            ]
          },
          "metadata": {
            "tags": []
          },
          "execution_count": 124
        },
        {
          "output_type": "display_data",
          "data": {
            "image/png": "[encoded data removed]",
            "text/plain": [
              "<Figure size 1080x720 with 2 Axes>"
            ]
          },
          "metadata": {
            "tags": []
          }
        }
      ]
    },
    {
      "cell_type": "code",
      "metadata": {
        "id": "v-S2R4fivgtN",
        "colab_type": "code",
        "colab": {}
      },
      "source": [
        "# Sns pairplot on continuous variables - a matrix with scatters on the triangles, and the distribution on the diagonal\n",
        "subdata=data[['satisfaction','evaluation','number_of_projects','average_montly_hours','time_spend_company']]\n",
        "sns.pairplot(subdata)"
      ],
      "execution_count": 0,
      "outputs": []
    },
    {
      "cell_type": "code",
      "metadata": {
        "id": "JtwZHOugKEfA",
        "colab_type": "code",
        "colab": {}
      },
      "source": [
        "# Initialize a model - selection number of components\n",
        "model = PCA(n_components = 3)"
      ],
      "execution_count": 0,
      "outputs": []
    },
    {
      "cell_type": "code",
      "metadata": {
        "id": "2eO7I2ibsxUc",
        "colab_type": "code",
        "colab": {}
      },
      "source": [
        "# Fit the model\n",
        "model.fit(data_scaled)"
      ],
      "execution_count": 0,
      "outputs": []
    },
    {
      "cell_type": "markdown",
      "metadata": {
        "id": "N0ehvPiDKMA-",
        "colab_type": "text"
      },
      "source": [
        "#### Exploring the Principal Components"
      ]
    },
    {
      "cell_type": "code",
      "metadata": {
        "id": "mI_u59fknjjy",
        "colab_type": "code",
        "outputId": "e4ba99e4-9b57-46af-da1f-528867199ac6",
        "colab": {
          "base_uri": "https://localhost:8080/",
          "height": 33
        }
      },
      "source": [
        "# How much variance is explained by the 3 components (Eigenvalue)\n",
        "model.explained_variance_"
      ],
      "execution_count": 0,
      "outputs": [
        {
          "output_type": "execute_result",
          "data": {
            "text/plain": [
              "array([1.83623533, 1.33060534, 1.22266748])"
            ]
          },
          "metadata": {
            "tags": []
          },
          "execution_count": 100
        }
      ]
    },
    {
      "cell_type": "code",
      "metadata": {
        "id": "o9jxu2iJqZ45",
        "colab_type": "code",
        "colab": {}
      },
      "source": [
        "# Transform the original data\n",
        "data_reduced = pca.fit_transform(data_scaled)"
      ],
      "execution_count": 0,
      "outputs": []
    },
    {
      "cell_type": "code",
      "metadata": {
        "id": "Qp4kd2r2sHph",
        "colab_type": "code",
        "colab": {}
      },
      "source": [
        "plot_data = pd.DataFrame({'evr': model.explained_variance_ratio_, 'cumsum_evr': np.cumsum(model.explained_variance_ratio_)}).stack()\n",
        "sns.set(rc={'figure.figsize':(15,10)})\n",
        "sns.lineplot(y = plot_data.values, x = plot_data.index.get_level_values(0), hue=plot_data.index.get_level_values(1))"
      ],
      "execution_count": 0,
      "outputs": []
    },
    {
      "cell_type": "code",
      "metadata": {
        "id": "Anr9NsnxsKRL",
        "colab_type": "code",
        "colab": {}
      },
      "source": [
        "# Scatter plot of the first 2 componentws\n",
        "sns.scatterplot(x = data_reduced[:,0], y = data_reduced[:,1])\n",
        "plt.axis('equal')\n",
        "plt.show()"
      ],
      "execution_count": 0,
      "outputs": []
    },
    {
      "cell_type": "code",
      "metadata": {
        "id": "o9QXlcgsuAlM",
        "colab_type": "code",
        "colab": {}
      },
      "source": [
        "# Get the mean of the grain samples: mean\n",
        "mean = model.mean_\n",
        "# Get the first principal component: first_pc\n",
        "first_pc = model.components_[0,:]\n",
        "second_pc = model.components_[1,:]\n",
        "# Make a scatter plot of the untransformed points\n",
        "plt.scatter(data_scaled[:,0], data_scaled[:,1])\n",
        "# Plot first_pc as an arrow, starting at mean\n",
        "plt.arrow(mean[0], mean[1], first_pc[0], first_pc[1], color='red', width=0.01)\n",
        "plt.arrow(mean[0], mean[1], second_pc[0], second_pc[1], color='green', width=0.01)\n",
        "# Keep axes on same scale\n",
        "plt.axis('equal')\n",
        "plt.show()\n",
        "\n",
        "#As exspected dimension reduction does not make much sense for the current data"
      ],
      "execution_count": 0,
      "outputs": []
    },
    {
      "cell_type": "markdown",
      "metadata": {
        "id": "AwkQucRh1D6f",
        "colab_type": "text"
      },
      "source": [
        "#Assignment 2\n",
        "## Supervised Machine Learning\n",
        "- Preprocess the data\n",
        "- Try to predict \"churn\" using a simple model (Logistic Regression)\n",
        "- Try a more advanced model (e.g. Random Forest)\n",
        "- Evaluate your model\n",
        "- Predict \"satisfaction\" (!!! This is a regression model)\n",
        "- Evaluate the regression model"
      ]
    },
    {
      "cell_type": "markdown",
      "metadata": {
        "id": "PxJWXY2b6dT6",
        "colab_type": "text"
      },
      "source": [
        "## Preamble"
      ]
    },
    {
      "cell_type": "code",
      "metadata": {
        "id": "vvMv8Eue6kqr",
        "colab_type": "code",
        "colab": {}
      },
      "source": [
        "# Import modules that we are going to use for all models\n",
        "# Load and instantiate a LabelEncoder that will turn our text labels (regions into indices)\n",
        "from sklearn.preprocessing import LabelEncoder\n",
        "encoder = LabelEncoder()\n",
        "# Import K-fold crossvalidation\n",
        "from sklearn.model_selection import cross_val_score\n",
        "# Import Classification Report for later evaluatoion of performance\n",
        "from sklearn.metrics import classification_report\n",
        "# Import StandardScaler\n",
        "from sklearn.preprocessing import StandardScaler\n",
        "# Random state defined with an arbitrary number for reproducibility\n",
        "from sklearn.model_selection import train_test_split\n",
        "# Import Logistic Regression\n",
        "from sklearn.linear_model import LogisticRegression\n",
        "\n",
        "# For that we need to install an updated version of the MLxtend library (it will make plotting of the confusion matrix easy)\n",
        "!pip install -qq -U mlxtend\n",
        "\n",
        "# Import the confusion matrix plotter module\n",
        "from mlxtend.plotting import plot_confusion_matrix\n",
        "# We will also import sklearns confusion matrix module that will make it easy to produce a confusion matrix\n",
        "# It's actually just a cross-tab of predicted vs. real values\n",
        "from sklearn.metrics import confusion_matrix\n",
        "# Import Random Forrest\n",
        "from sklearn.ensemble import RandomForestClassifier\n"
      ],
      "execution_count": 0,
      "outputs": []
    },
    {
      "cell_type": "markdown",
      "metadata": {
        "id": "HvDpX9QM27sS",
        "colab_type": "text"
      },
      "source": [
        "##Getting and preparing data"
      ]
    },
    {
      "cell_type": "code",
      "metadata": {
        "id": "i5B_a83f26RS",
        "colab_type": "code",
        "colab": {}
      },
      "source": [
        "# Select the (independant) features that we are going to use to train the model\n",
        "turnover = pd.read_csv('https://github.com/CALDISS-AAU/sdsphd19_coursematerials/raw/master/data/turnover.csv')\n",
        "salary_mapper = {'low':0, 'medium':1, 'high':2}\n",
        "turnover['salary_recode'] = turnover.salary.map(salary_mapper)\n",
        "turnover.department.value_counts(normalize=True)\n",
        "dep_matrix = pd.get_dummies(turnover.department)\n",
        "X = pd.concat([turnover, dep_matrix], axis = 1)\n",
        "X.drop(['department', 'salary','support','churn'], axis=1, inplace=True)\n",
        "# Instantiate a StandardSclaer \n",
        "scaler = StandardScaler()\n",
        "# Apply the scaler to our X-features\n",
        "X_scaled = scaler.fit_transform(X)"
      ],
      "execution_count": 0,
      "outputs": []
    },
    {
      "cell_type": "code",
      "metadata": {
        "id": "v685t4ni38DL",
        "colab_type": "code",
        "colab": {}
      },
      "source": [
        "# Define the dependant variabel / target to predict (world region)\n",
        "turnover = pd.read_csv('https://github.com/CALDISS-AAU/sdsphd19_coursematerials/raw/master/data/turnover.csv')\n",
        "y = turnover.churn"
      ],
      "execution_count": 0,
      "outputs": []
    },
    {
      "cell_type": "code",
      "metadata": {
        "id": "xruHfuT12p4S",
        "colab_type": "code",
        "colab": {}
      },
      "source": [
        "# Transform labels into indices by passing y to the encoder\n",
        "y_enc = encoder.fit_transform(y)"
      ],
      "execution_count": 0,
      "outputs": []
    },
    {
      "cell_type": "code",
      "metadata": {
        "id": "aDHv9W4M6ROG",
        "colab_type": "code",
        "colab": {}
      },
      "source": [
        "# Split the data using the train_test_split module. We keep 20% of the data for testing and use 80% to train the model\n",
        "X_train, X_test, y_train, y_test = train_test_split(X_scaled, y_enc, test_size = 0.2, random_state = 42)"
      ],
      "execution_count": 0,
      "outputs": []
    },
    {
      "cell_type": "markdown",
      "metadata": {
        "id": "0I2dVwSZ9LvW",
        "colab_type": "text"
      },
      "source": [
        "##Predicting \"churn\" using logistic regression"
      ]
    },
    {
      "cell_type": "markdown",
      "metadata": {
        "id": "PP3nUH317RPL",
        "colab_type": "text"
      },
      "source": [
        "###Model Estimation"
      ]
    },
    {
      "cell_type": "code",
      "metadata": {
        "id": "RIt8uIny7PTR",
        "colab_type": "code",
        "outputId": "f794eea5-2f76-47a7-d77d-22c8a75d32b5",
        "colab": {
          "base_uri": "https://localhost:8080/",
          "height": 245
        }
      },
      "source": [
        "#instantiate the model\n",
        "model = LogisticRegression()\n",
        "# K-fold cross-validation (splitting the 80% into 5 chunks, using 4 to train and 1 to evaluate)\n",
        "scores = cross_val_score(model, X_train, y_train, cv = 5)\n",
        "print(scores)\n",
        "# Model training\n",
        "model.fit(X_train, y_train)\n",
        "# Model performance on the test-set\n",
        "print(model.score(X_test, y_test))"
      ],
      "execution_count": 0,
      "outputs": [
        {
          "output_type": "stream",
          "text": [
            "/usr/local/lib/python3.6/dist-packages/sklearn/linear_model/logistic.py:432: FutureWarning: Default solver will be changed to 'lbfgs' in 0.22. Specify a solver to silence this warning.\n",
            "  FutureWarning)\n",
            "/usr/local/lib/python3.6/dist-packages/sklearn/linear_model/logistic.py:432: FutureWarning: Default solver will be changed to 'lbfgs' in 0.22. Specify a solver to silence this warning.\n",
            "  FutureWarning)\n",
            "/usr/local/lib/python3.6/dist-packages/sklearn/linear_model/logistic.py:432: FutureWarning: Default solver will be changed to 'lbfgs' in 0.22. Specify a solver to silence this warning.\n",
            "  FutureWarning)\n",
            "/usr/local/lib/python3.6/dist-packages/sklearn/linear_model/logistic.py:432: FutureWarning: Default solver will be changed to 'lbfgs' in 0.22. Specify a solver to silence this warning.\n",
            "  FutureWarning)\n",
            "/usr/local/lib/python3.6/dist-packages/sklearn/linear_model/logistic.py:432: FutureWarning: Default solver will be changed to 'lbfgs' in 0.22. Specify a solver to silence this warning.\n",
            "  FutureWarning)\n",
            "/usr/local/lib/python3.6/dist-packages/sklearn/linear_model/logistic.py:432: FutureWarning: Default solver will be changed to 'lbfgs' in 0.22. Specify a solver to silence this warning.\n",
            "  FutureWarning)\n"
          ],
          "name": "stderr"
        },
        {
          "output_type": "stream",
          "text": [
            "[0.78916667 0.795      0.79416667 0.8025     0.78449354]\n",
            "0.7886666666666666\n"
          ],
          "name": "stdout"
        }
      ]
    },
    {
      "cell_type": "markdown",
      "metadata": {
        "id": "pPW8ThUd1D5q",
        "colab_type": "text"
      },
      "source": [
        "The overall accuracy is 79%"
      ]
    },
    {
      "cell_type": "markdown",
      "metadata": {
        "id": "LKqqmYoQ8PKM",
        "colab_type": "text"
      },
      "source": [
        "### Model Evaluation"
      ]
    },
    {
      "cell_type": "code",
      "metadata": {
        "id": "YOQbyOru7pfS",
        "colab_type": "code",
        "colab": {}
      },
      "source": [
        "# Performance evaluation using the classification_report\n",
        "target_names = encoder.inverse_transform(list(set(y_test))) # get real region names back using inverse_transform\n",
        "y_pred = model.predict(X_test) # predict from the testset\n",
        "print(classification_report(y_test, y_pred, target_names = target_names)) #Print out the report"
      ],
      "execution_count": 0,
      "outputs": []
    },
    {
      "cell_type": "code",
      "metadata": {
        "id": "m8Z5_iID776u",
        "colab_type": "code",
        "colab": {}
      },
      "source": [
        "# Visual evaluation:\n",
        "#calculate the confusion matrix\n",
        "confmatrix = confusion_matrix(y_test,y_pred) \n",
        "# Plot\n",
        "plot_confusion_matrix(conf_mat=confmatrix,\n",
        "                                colorbar=True,\n",
        "                                show_absolute=True,\n",
        "                                show_normed=True,\n",
        "                                hide_spines = True,\n",
        "                                class_names = target_names)"
      ],
      "execution_count": 0,
      "outputs": []
    },
    {
      "cell_type": "markdown",
      "metadata": {
        "id": "Geny2Tr51f3g",
        "colab_type": "text"
      },
      "source": [
        "The model is not getting about 64 pct. of the actual churn right!"
      ]
    },
    {
      "cell_type": "markdown",
      "metadata": {
        "id": "HZRg--5C8rUn",
        "colab_type": "text"
      },
      "source": [
        "##Predicting \"churn\" using Random Forrest"
      ]
    },
    {
      "cell_type": "markdown",
      "metadata": {
        "id": "BCzphlGH9XSZ",
        "colab_type": "text"
      },
      "source": [
        "###Model Estimation"
      ]
    },
    {
      "cell_type": "code",
      "metadata": {
        "id": "JIg_pDjo9HGP",
        "colab_type": "code",
        "colab": {}
      },
      "source": [
        "model = RandomForestClassifier()\n",
        "scores = cross_val_score(model, X_train, y_train, cv = 5)\n",
        "print(scores)\n",
        "model.fit(X_train, y_train)\n",
        "print(model.score(X_test, y_test))"
      ],
      "execution_count": 0,
      "outputs": []
    },
    {
      "cell_type": "markdown",
      "metadata": {
        "id": "Mc6h-75a2xYr",
        "colab_type": "text"
      },
      "source": [
        "The overall performance goes up (as expected).\n",
        "The test-score is well within the values produced in the crossvalidation "
      ]
    },
    {
      "cell_type": "markdown",
      "metadata": {
        "id": "EJhrGBW-9as6",
        "colab_type": "text"
      },
      "source": [
        "###Model Evaluation"
      ]
    },
    {
      "cell_type": "code",
      "metadata": {
        "id": "NTjI1c2o2QI2",
        "colab_type": "code",
        "colab": {}
      },
      "source": [
        "# Performance evaluation using the classification_report\n",
        "target_names = encoder.inverse_transform(list(set(y_test))) # get real region names back using inverse_transform\n",
        "y_pred = model.predict(X_test) # predict from the testset\n",
        "print(classification_report(y_test, y_pred, target_names = target_names)) #Print out the report"
      ],
      "execution_count": 0,
      "outputs": []
    },
    {
      "cell_type": "code",
      "metadata": {
        "id": "UIwwG2vq9f0g",
        "colab_type": "code",
        "colab": {}
      },
      "source": [
        "# Performance evaluation using the classification_report\n",
        "target_names = encoder.inverse_transform(list(set(y_test))) # get real region names back using inverse_transform\n",
        "y_pred = model.predict(X_test) # predict from the testset\n",
        "# calculate the confusion matrix\n",
        "confmatrix = confusion_matrix(y_test,y_pred) \n",
        "# Plot\n",
        "plot_confusion_matrix(conf_mat=confmatrix,\n",
        "                                colorbar=True,\n",
        "                                show_absolute=True,\n",
        "                                show_normed=True,\n",
        "                                class_names = target_names)\n"
      ],
      "execution_count": 0,
      "outputs": []
    },
    {
      "cell_type": "markdown",
      "metadata": {
        "id": "O8P-ErYn3aAi",
        "colab_type": "text"
      },
      "source": [
        "The model is better at classifying individuals in risk of leaving the company"
      ]
    }
  ]
}